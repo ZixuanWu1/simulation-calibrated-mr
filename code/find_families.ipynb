{
 "cells": [
  {
   "cell_type": "code",
   "execution_count": 15,
   "id": "8fb50ca3-4e33-4be0-bb36-562df1b3e0a9",
   "metadata": {},
   "outputs": [],
   "source": [
    "# Find connected component in a graph\n",
    "import collections"
   ]
  },
  {
   "cell_type": "code",
   "execution_count": 17,
   "id": "b634acbe-afc2-492e-8892-25cc08251357",
   "metadata": {},
   "outputs": [],
   "source": [
    "def find_connected_component(id_pairs):\n",
    "    \n",
    "    # Use bfs to find connected components\n",
    "    def bfs(start_node, graph):\n",
    "        q = collections.deque([start_node])\n",
    "        fam = []\n",
    "        while q:\n",
    "            node = q.popleft()\n",
    "            fam.append(node)\n",
    "            for nei in graph[node]:\n",
    "                if nei not in visited:\n",
    "                    visited.add(nei)\n",
    "                    q.append(nei)\n",
    "        return fam\n",
    "    \n",
    "    # Step1: form graph from id_pairs\n",
    "    result = []\n",
    "    graph = collections.defaultdict(list)\n",
    "    for x, y in id_pairs:\n",
    "        graph[x].append(y)\n",
    "        graph[y].append(x)\n",
    "        \n",
    "    flat_ids = set([ID for pair in id_pairs for ID in pair])\n",
    "    unique_ids = list(flat_ids)\n",
    "    visited = set()\n",
    "    \n",
    "    for ID in unique_ids:\n",
    "        if ID not in visited:\n",
    "            visited.add(ID)\n",
    "            fam = bfs(ID, graph)\n",
    "            result.append(fam)\n",
    "            \n",
    "    return result"
   ]
  },
  {
   "cell_type": "code",
   "execution_count": 18,
   "id": "bb5f8e54-cc08-4669-a1ec-393cd1572cc4",
   "metadata": {},
   "outputs": [
    {
     "name": "stdout",
     "output_type": "stream",
     "text": [
      "[[1, 2, 3], [4, 5], [6, 7], [8, 9, 10]]\n"
     ]
    }
   ],
   "source": [
    "id_pairs = [[1, 2], [2, 3], [4, 5], [6, 7], [8, 9], [9, 10]]\n",
    "\n",
    "result = find_connected_component(id_pairs)\n",
    "print(result)"
   ]
  }
 ],
 "metadata": {
  "kernelspec": {
   "display_name": "Python 3 (ipykernel)",
   "language": "python",
   "name": "python3"
  },
  "language_info": {
   "codemirror_mode": {
    "name": "ipython",
    "version": 3
   },
   "file_extension": ".py",
   "mimetype": "text/x-python",
   "name": "python",
   "nbconvert_exporter": "python",
   "pygments_lexer": "ipython3",
   "version": "3.9.7"
  }
 },
 "nbformat": 4,
 "nbformat_minor": 5
}
